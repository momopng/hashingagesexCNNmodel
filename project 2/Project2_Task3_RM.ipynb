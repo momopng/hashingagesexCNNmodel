{
  "nbformat": 4,
  "nbformat_minor": 0,
  "metadata": {
    "colab": {
      "name": "Project2_Task3_RM.ipynb",
      "provenance": []
    },
    "kernelspec": {
      "name": "python3",
      "display_name": "Python 3"
    },
    "language_info": {
      "name": "python"
    }
  },
  "cells": [
    {
      "cell_type": "markdown",
      "source": [
        "# Student Names:\n",
        "Rebecca Moore\n",
        "\n",
        "\n",
        "1.   Task 1 - basic CNN\n",
        "2.   Task 3 - VGG16 transfer Learning\n",
        "\n",
        "Manish Reddy\n",
        "\n",
        "\n",
        "1.   Task 1 - basic CNN\n",
        "2.   Task 2 - Hash Filter and error function"
      ],
      "metadata": {
        "id": "CfLux1oYxm3l"
      }
    },
    {
      "cell_type": "code",
      "source": [
        "from google.colab import drive\n",
        "import tensorflow as tf\n",
        "import numpy as np\n",
        "import os\n",
        "import glob\n",
        "import pandas as pd\n",
        "import matplotlib.pyplot as plt\n",
        "import seaborn as sns\n",
        "from keras.callbacks import EarlyStopping\n",
        "from tensorflow.keras.utils import to_categorical\n",
        "import cv2\n",
        "import matplotlib.pyplot as plt\n",
        "import seaborn as sns\n",
        "from PIL import Image\n",
        "from tensorflow.keras.optimizers import Adam\n",
        "from keras.applications.vgg16 import VGG16\n",
        "from keras.applications.vgg16 import preprocess_input\n",
        "from keras.layers import Dense, GlobalAveragePooling2D\n",
        "from keras import  models\n",
        "from keras.models import Model\n",
        "from keras.layers import Dense\n",
        "from keras.callbacks import ModelCheckpoint"
      ],
      "metadata": {
        "id": "1RQMEUXI0ths"
      },
      "execution_count": 2,
      "outputs": []
    },
    {
      "cell_type": "markdown",
      "source": [
        "# Preprocessing on images "
      ],
      "metadata": {
        "id": "qh8s-7sCaFe6"
      }
    },
    {
      "cell_type": "code",
      "source": [
        "train_data_path = '/content/drive/MyDrive/UTKFace/'\n",
        "x = []\n",
        "y_a = []\n",
        "y_g = []\n",
        "y_r = []\n",
        "\n",
        "root_path, dirs, files = next(os.walk(train_data_path))\n",
        "\n",
        "for f in files:\n",
        "    f_items = str(f).split('_')\n",
        "    if len(f_items) == 4 and int(f_items[0]) <= 116:\n",
        "        image = cv2.imread(os.path.join(root_path, f))\n",
        "        image = cv2.resize(image, (224, 224))\n",
        "        x.append(image)\n",
        "        y_a.append(int(f_items[0]) - 1)\n",
        "        y_g.append(int(f_items[1]))\n",
        "        y_r.append(int(f_items[2]))\n",
        "\n",
        "y_a = to_categorical(y_a, 116)\n",
        "y_g = to_categorical(y_g, 2)\n",
        "y_r = to_categorical(y_r, 5)"
      ],
      "metadata": {
        "id": "Bj-ePSQ1HoBk"
      },
      "execution_count": 3,
      "outputs": []
    },
    {
      "cell_type": "markdown",
      "source": [
        "Takes the labels for each category and puts them into an array"
      ],
      "metadata": {
        "id": "_fvUt8l9aQ-n"
      }
    },
    {
      "cell_type": "code",
      "source": [
        "x = np.array(x)\n",
        "y_a = np.array(y_a)\n",
        "y_g = np.array(y_g)\n",
        "y_r = np.array(y_r)"
      ],
      "metadata": {
        "id": "SRRATldhN8ps"
      },
      "execution_count": 4,
      "outputs": []
    },
    {
      "cell_type": "markdown",
      "source": [
        ""
      ],
      "metadata": {
        "id": "1kOjCqIFaZjH"
      }
    },
    {
      "cell_type": "code",
      "source": [
        "train_index = int(len(x)*(1 - 0.1))\n",
        "\n",
        "x_train = x[:train_index]\n",
        "y_train_a = y_a[:train_index]\n",
        "y_train_g = y_g[:train_index]\n",
        "y_train_r = y_r[:train_index]\n",
        "\n",
        "x_test = x[train_index:]\n",
        "y_test_a = y_a[train_index:]\n",
        "y_test_g = y_g[train_index:]\n",
        "y_test_r = y_r[train_index:]\n",
        "\n",
        "print(x.shape)\n",
        "print(y_a.shape)\n",
        "print(y_g.shape)\n",
        "print(y_r.shape)"
      ],
      "metadata": {
        "colab": {
          "base_uri": "https://localhost:8080/"
        },
        "id": "QIlL10k7OIZj",
        "outputId": "c224abc6-7ec0-4c05-eeb7-259268828e3d"
      },
      "execution_count": 5,
      "outputs": [
        {
          "output_type": "stream",
          "name": "stdout",
          "text": [
            "(23705, 224, 224, 3)\n",
            "(23705, 116)\n",
            "(23705, 2)\n",
            "(23705, 5)\n"
          ]
        }
      ]
    },
    {
      "cell_type": "code",
      "execution_count": null,
      "metadata": {
        "colab": {
          "base_uri": "https://localhost:8080/"
        },
        "id": "wN7xtN6szyr5",
        "outputId": "3b2b0ac2-0f61-4483-ee4f-54919847fe78"
      },
      "outputs": [
        {
          "output_type": "stream",
          "name": "stdout",
          "text": [
            "Mounted at /content/drive\n"
          ]
        }
      ],
      "source": [
        "drive.mount('/content/drive')"
      ]
    },
    {
      "cell_type": "markdown",
      "source": [
        "Mounting google drive because that is where the directory with the images is stored, set up mapping for gender and races"
      ],
      "metadata": {
        "id": "9baupNR0wmKA"
      }
    },
    {
      "cell_type": "code",
      "source": [
        "drive.mount('/content/drive')\n",
        "\n",
        "data_name = '/content/drive/MyDrive/UTKFace'\n",
        "\n",
        "image_size = (224, 224)\n",
        "batch_size = 32\n",
        "\n",
        "TT_SPLIT = 0.7\n",
        "IM_WIDTH = 224\n",
        "IM_HEIGHT = 224\n",
        "\n",
        "dict_categories = {\n",
        "    'race_id': {0: 'white', 1: 'black', 2: 'asian', 3: 'indian', 4: 'others'},\n",
        "    'sex_id': {0: 'male',1: 'female'}}\n",
        "\n",
        "dict_categories['sex_tmp'] = dict((g, i) for i, g in dict_categories['sex_id'].items())\n",
        "dict_categories['race_tmp'] = dict((r, i) for i, r in dict_categories['race_id'].items())"
      ],
      "metadata": {
        "id": "MDUPqtWBcbc2"
      },
      "execution_count": 6,
      "outputs": []
    },
    {
      "cell_type": "markdown",
      "source": [
        "Parse through the directory and image files to extract the labels and create a dataframe"
      ],
      "metadata": {
        "id": "hEQ0tCNBwnga"
      }
    },
    {
      "cell_type": "code",
      "source": [
        "def parse(dataset_path, ext='jpg'):\n",
        "    def extract(path):\n",
        "        try:\n",
        "            filename = os.path.split(path)[1]\n",
        "            filename = os.path.splitext(filename)[0]\n",
        "            age, gender, race, _ = filename.split('_')\n",
        "\n",
        "            return int(age), dict_categories['sex_id'][int(gender)], dict_categories['race_id'][int(race)]\n",
        "        except Exception as ex:\n",
        "            return None, None, None\n",
        "        \n",
        "    files = glob.glob(os.path.join(dataset_path, \"*.%s\" % ext))\n",
        "    records = []\n",
        "    for file in files:\n",
        "        info = extract(file)\n",
        "        records.append(info)   \n",
        "    df = pd.DataFrame(records)\n",
        "    df['file'] = files\n",
        "    df.columns = ['age', 'gender', 'race', 'file']\n",
        "    df = df.dropna()\n",
        "    return df"
      ],
      "metadata": {
        "id": "89J4-gI7oW7A"
      },
      "execution_count": 7,
      "outputs": []
    },
    {
      "cell_type": "code",
      "source": [
        "df = parse_data(data_name)\n",
        "df.head()"
      ],
      "metadata": {
        "colab": {
          "base_uri": "https://localhost:8080/",
          "height": 206
        },
        "id": "nIhxRRjFohH3",
        "outputId": "f05cc24d-73ff-4e89-9a86-fa4164feea71"
      },
      "execution_count": 8,
      "outputs": [
        {
          "output_type": "execute_result",
          "data": {
            "text/html": [
              "\n",
              "  <div id=\"df-c1a4d9de-7199-49e1-ac85-c9683bbfec54\">\n",
              "    <div class=\"colab-df-container\">\n",
              "      <div>\n",
              "<style scoped>\n",
              "    .dataframe tbody tr th:only-of-type {\n",
              "        vertical-align: middle;\n",
              "    }\n",
              "\n",
              "    .dataframe tbody tr th {\n",
              "        vertical-align: top;\n",
              "    }\n",
              "\n",
              "    .dataframe thead th {\n",
              "        text-align: right;\n",
              "    }\n",
              "</style>\n",
              "<table border=\"1\" class=\"dataframe\">\n",
              "  <thead>\n",
              "    <tr style=\"text-align: right;\">\n",
              "      <th></th>\n",
              "      <th>age</th>\n",
              "      <th>gender</th>\n",
              "      <th>race</th>\n",
              "      <th>file</th>\n",
              "    </tr>\n",
              "  </thead>\n",
              "  <tbody>\n",
              "    <tr>\n",
              "      <th>0</th>\n",
              "      <td>56.0</td>\n",
              "      <td>male</td>\n",
              "      <td>white</td>\n",
              "      <td>/content/drive/MyDrive/UTKFace/56_0_0_20170119...</td>\n",
              "    </tr>\n",
              "    <tr>\n",
              "      <th>1</th>\n",
              "      <td>56.0</td>\n",
              "      <td>male</td>\n",
              "      <td>indian</td>\n",
              "      <td>/content/drive/MyDrive/UTKFace/56_0_3_20170119...</td>\n",
              "    </tr>\n",
              "    <tr>\n",
              "      <th>2</th>\n",
              "      <td>56.0</td>\n",
              "      <td>male</td>\n",
              "      <td>indian</td>\n",
              "      <td>/content/drive/MyDrive/UTKFace/56_0_3_20170119...</td>\n",
              "    </tr>\n",
              "    <tr>\n",
              "      <th>3</th>\n",
              "      <td>56.0</td>\n",
              "      <td>male</td>\n",
              "      <td>asian</td>\n",
              "      <td>/content/drive/MyDrive/UTKFace/56_0_2_20170119...</td>\n",
              "    </tr>\n",
              "    <tr>\n",
              "      <th>4</th>\n",
              "      <td>56.0</td>\n",
              "      <td>male</td>\n",
              "      <td>indian</td>\n",
              "      <td>/content/drive/MyDrive/UTKFace/56_0_3_20170119...</td>\n",
              "    </tr>\n",
              "  </tbody>\n",
              "</table>\n",
              "</div>\n",
              "      <button class=\"colab-df-convert\" onclick=\"convertToInteractive('df-c1a4d9de-7199-49e1-ac85-c9683bbfec54')\"\n",
              "              title=\"Convert this dataframe to an interactive table.\"\n",
              "              style=\"display:none;\">\n",
              "        \n",
              "  <svg xmlns=\"http://www.w3.org/2000/svg\" height=\"24px\"viewBox=\"0 0 24 24\"\n",
              "       width=\"24px\">\n",
              "    <path d=\"M0 0h24v24H0V0z\" fill=\"none\"/>\n",
              "    <path d=\"M18.56 5.44l.94 2.06.94-2.06 2.06-.94-2.06-.94-.94-2.06-.94 2.06-2.06.94zm-11 1L8.5 8.5l.94-2.06 2.06-.94-2.06-.94L8.5 2.5l-.94 2.06-2.06.94zm10 10l.94 2.06.94-2.06 2.06-.94-2.06-.94-.94-2.06-.94 2.06-2.06.94z\"/><path d=\"M17.41 7.96l-1.37-1.37c-.4-.4-.92-.59-1.43-.59-.52 0-1.04.2-1.43.59L10.3 9.45l-7.72 7.72c-.78.78-.78 2.05 0 2.83L4 21.41c.39.39.9.59 1.41.59.51 0 1.02-.2 1.41-.59l7.78-7.78 2.81-2.81c.8-.78.8-2.07 0-2.86zM5.41 20L4 18.59l7.72-7.72 1.47 1.35L5.41 20z\"/>\n",
              "  </svg>\n",
              "      </button>\n",
              "      \n",
              "  <style>\n",
              "    .colab-df-container {\n",
              "      display:flex;\n",
              "      flex-wrap:wrap;\n",
              "      gap: 12px;\n",
              "    }\n",
              "\n",
              "    .colab-df-convert {\n",
              "      background-color: #E8F0FE;\n",
              "      border: none;\n",
              "      border-radius: 50%;\n",
              "      cursor: pointer;\n",
              "      display: none;\n",
              "      fill: #1967D2;\n",
              "      height: 32px;\n",
              "      padding: 0 0 0 0;\n",
              "      width: 32px;\n",
              "    }\n",
              "\n",
              "    .colab-df-convert:hover {\n",
              "      background-color: #E2EBFA;\n",
              "      box-shadow: 0px 1px 2px rgba(60, 64, 67, 0.3), 0px 1px 3px 1px rgba(60, 64, 67, 0.15);\n",
              "      fill: #174EA6;\n",
              "    }\n",
              "\n",
              "    [theme=dark] .colab-df-convert {\n",
              "      background-color: #3B4455;\n",
              "      fill: #D2E3FC;\n",
              "    }\n",
              "\n",
              "    [theme=dark] .colab-df-convert:hover {\n",
              "      background-color: #434B5C;\n",
              "      box-shadow: 0px 1px 3px 1px rgba(0, 0, 0, 0.15);\n",
              "      filter: drop-shadow(0px 1px 2px rgba(0, 0, 0, 0.3));\n",
              "      fill: #FFFFFF;\n",
              "    }\n",
              "  </style>\n",
              "\n",
              "      <script>\n",
              "        const buttonEl =\n",
              "          document.querySelector('#df-c1a4d9de-7199-49e1-ac85-c9683bbfec54 button.colab-df-convert');\n",
              "        buttonEl.style.display =\n",
              "          google.colab.kernel.accessAllowed ? 'block' : 'none';\n",
              "\n",
              "        async function convertToInteractive(key) {\n",
              "          const element = document.querySelector('#df-c1a4d9de-7199-49e1-ac85-c9683bbfec54');\n",
              "          const dataTable =\n",
              "            await google.colab.kernel.invokeFunction('convertToInteractive',\n",
              "                                                     [key], {});\n",
              "          if (!dataTable) return;\n",
              "\n",
              "          const docLinkHtml = 'Like what you see? Visit the ' +\n",
              "            '<a target=\"_blank\" href=https://colab.research.google.com/notebooks/data_table.ipynb>data table notebook</a>'\n",
              "            + ' to learn more about interactive tables.';\n",
              "          element.innerHTML = '';\n",
              "          dataTable['output_type'] = 'display_data';\n",
              "          await google.colab.output.renderOutput(dataTable, element);\n",
              "          const docLink = document.createElement('div');\n",
              "          docLink.innerHTML = docLinkHtml;\n",
              "          element.appendChild(docLink);\n",
              "        }\n",
              "      </script>\n",
              "    </div>\n",
              "  </div>\n",
              "  "
            ],
            "text/plain": [
              "    age gender    race                                               file\n",
              "0  56.0   male   white  /content/drive/MyDrive/UTKFace/56_0_0_20170119...\n",
              "1  56.0   male  indian  /content/drive/MyDrive/UTKFace/56_0_3_20170119...\n",
              "2  56.0   male  indian  /content/drive/MyDrive/UTKFace/56_0_3_20170119...\n",
              "3  56.0   male   asian  /content/drive/MyDrive/UTKFace/56_0_2_20170119...\n",
              "4  56.0   male  indian  /content/drive/MyDrive/UTKFace/56_0_3_20170119..."
            ]
          },
          "metadata": {},
          "execution_count": 8
        }
      ]
    },
    {
      "cell_type": "markdown",
      "source": [
        "# Generates Images and splits up the processing into batches because the dataset is so large it will crash without being split"
      ],
      "metadata": {
        "id": "PlgOoqXOZ4Ll"
      }
    },
    {
      "cell_type": "code",
      "source": [
        "class UtkGenerator():\n",
        "    def __init__(self, df):\n",
        "        self.df = df \n",
        "    def split(self):\n",
        "        p = np.random.permutation(len(self.df))\n",
        "        spliter = int(len(self.df) * TT_SPLIT)\n",
        "        train = p[:spliter]\n",
        "        test = p[spliter:]\n",
        "\n",
        "        spliter = int(spliter * TT_SPLIT)\n",
        "        train, valid = train[:spliter], train[spliter:]\n",
        "        \n",
        "        self.df['sex_id'] = self.df['gender'].map(lambda sex: dict_categories['sex_tmp'][sex])\n",
        "        self.df['race_id'] = self.df['race'].map(lambda race: dict_categories['race_tmp'][race])\n",
        "\n",
        "        self.max_age = self.df['age'].max()\n",
        "        \n",
        "        return train, valid, test\n",
        "    \n",
        "    def preprocess_image(self, img_path):\n",
        "        im = Image.open(img_path)\n",
        "        im = im.resize((IM_WIDTH, IM_HEIGHT))\n",
        "        im = np.array(im) / 255.0\n",
        "        \n",
        "        return im\n",
        "        \n",
        "    def generate_images(self, image_idx, is_training, batch_size=16):\n",
        "        images, ages, races, sexs = [], [], [], []\n",
        "        while True:\n",
        "            for idx in image_idx:\n",
        "                f = self.df.iloc[idx]\n",
        "                \n",
        "                age = f['age']\n",
        "                race = f['race_categorical']\n",
        "                sex = f['sex_categorical']\n",
        "                file = f['file']\n",
        "                \n",
        "                im = self.preprocess_image(file)\n",
        "                ages.append(age / self.max_age)\n",
        "                races.append(to_categorical(race, len(dict_categories['race_categorical'])))\n",
        "                sexs.append(to_categorical(sex, len(dict_categories['sex_id'])))\n",
        "                images.append(im)\n",
        "\n",
        "                if len(images) >= batch_size:\n",
        "                    yield np.array(images), [np.array(ages), np.array(races), np.array(sexs)]\n",
        "                    images, ages, races, sexs = [], [], [], []\n",
        "                    \n",
        "            if not is_training:\n",
        "                break\n",
        "                \n",
        "generator = UtkGenerator(df)\n",
        "train, valid, test = generator.split()"
      ],
      "metadata": {
        "id": "s0HBq1nXpsRE"
      },
      "execution_count": 9,
      "outputs": []
    },
    {
      "cell_type": "markdown",
      "source": [
        "# Load saved VGG16 model and weights from imagenet"
      ],
      "metadata": {
        "id": "YotXX39OxBu4"
      }
    },
    {
      "cell_type": "code",
      "source": [
        "base_model = VGG16(include_top=True,\n",
        "            input_tensor=None,\n",
        "            weights='imagenet',\n",
        "            pooling= None,\n",
        "            input_shape = None)"
      ],
      "metadata": {
        "id": "A8x7SDgH4CLD"
      },
      "execution_count": 10,
      "outputs": []
    },
    {
      "cell_type": "code",
      "source": [
        "base_model.summary()"
      ],
      "metadata": {
        "colab": {
          "base_uri": "https://localhost:8080/"
        },
        "id": "SteyiLQZ5bWO",
        "outputId": "29719d88-e856-44bb-a9e2-87bcf6b90344"
      },
      "execution_count": 11,
      "outputs": [
        {
          "output_type": "stream",
          "name": "stdout",
          "text": [
            "Model: \"vgg16\"\n",
            "_________________________________________________________________\n",
            " Layer (type)                Output Shape              Param #   \n",
            "=================================================================\n",
            " input_1 (InputLayer)        [(None, 224, 224, 3)]     0         \n",
            "                                                                 \n",
            " block1_conv1 (Conv2D)       (None, 224, 224, 64)      1792      \n",
            "                                                                 \n",
            " block1_conv2 (Conv2D)       (None, 224, 224, 64)      36928     \n",
            "                                                                 \n",
            " block1_pool (MaxPooling2D)  (None, 112, 112, 64)      0         \n",
            "                                                                 \n",
            " block2_conv1 (Conv2D)       (None, 112, 112, 128)     73856     \n",
            "                                                                 \n",
            " block2_conv2 (Conv2D)       (None, 112, 112, 128)     147584    \n",
            "                                                                 \n",
            " block2_pool (MaxPooling2D)  (None, 56, 56, 128)       0         \n",
            "                                                                 \n",
            " block3_conv1 (Conv2D)       (None, 56, 56, 256)       295168    \n",
            "                                                                 \n",
            " block3_conv2 (Conv2D)       (None, 56, 56, 256)       590080    \n",
            "                                                                 \n",
            " block3_conv3 (Conv2D)       (None, 56, 56, 256)       590080    \n",
            "                                                                 \n",
            " block3_pool (MaxPooling2D)  (None, 28, 28, 256)       0         \n",
            "                                                                 \n",
            " block4_conv1 (Conv2D)       (None, 28, 28, 512)       1180160   \n",
            "                                                                 \n",
            " block4_conv2 (Conv2D)       (None, 28, 28, 512)       2359808   \n",
            "                                                                 \n",
            " block4_conv3 (Conv2D)       (None, 28, 28, 512)       2359808   \n",
            "                                                                 \n",
            " block4_pool (MaxPooling2D)  (None, 14, 14, 512)       0         \n",
            "                                                                 \n",
            " block5_conv1 (Conv2D)       (None, 14, 14, 512)       2359808   \n",
            "                                                                 \n",
            " block5_conv2 (Conv2D)       (None, 14, 14, 512)       2359808   \n",
            "                                                                 \n",
            " block5_conv3 (Conv2D)       (None, 14, 14, 512)       2359808   \n",
            "                                                                 \n",
            " block5_pool (MaxPooling2D)  (None, 7, 7, 512)         0         \n",
            "                                                                 \n",
            " flatten (Flatten)           (None, 25088)             0         \n",
            "                                                                 \n",
            " fc1 (Dense)                 (None, 4096)              102764544 \n",
            "                                                                 \n",
            " fc2 (Dense)                 (None, 4096)              16781312  \n",
            "                                                                 \n",
            " predictions (Dense)         (None, 1000)              4097000   \n",
            "                                                                 \n",
            "=================================================================\n",
            "Total params: 138,357,544\n",
            "Trainable params: 138,357,544\n",
            "Non-trainable params: 0\n",
            "_________________________________________________________________\n"
          ]
        }
      ]
    },
    {
      "cell_type": "markdown",
      "source": [
        "# Add layers for race, gender, and age outputs and compile "
      ],
      "metadata": {
        "id": "23Ygzz16xGjg"
      }
    },
    {
      "cell_type": "code",
      "source": [
        "base_output = base_model.output\n",
        "output_a = Dense(116, activation='softmax', name='predications_age')(base_output)\n",
        "output_g = Dense(2, activation='softmax', name='predications_gender')(base_output)\n",
        "output_r = Dense(5, activation='softmax', name='predications_race')(base_output)\n",
        "\n",
        "new_model = Model(inputs=base_model.input, outputs=[output_a, output_g, output_r], name='transfer_learning_vgg16_utk')"
      ],
      "metadata": {
        "id": "ny8NMx2R6dx0"
      },
      "execution_count": 12,
      "outputs": []
    },
    {
      "cell_type": "code",
      "source": [
        "new_model.summary()"
      ],
      "metadata": {
        "colab": {
          "base_uri": "https://localhost:8080/"
        },
        "id": "R7Z9ix4LuTHh",
        "outputId": "2c876b3b-5de1-4001-9687-d454df3bbc37"
      },
      "execution_count": 13,
      "outputs": [
        {
          "output_type": "stream",
          "name": "stdout",
          "text": [
            "Model: \"transfer_learning_vgg16_utk\"\n",
            "__________________________________________________________________________________________________\n",
            " Layer (type)                   Output Shape         Param #     Connected to                     \n",
            "==================================================================================================\n",
            " input_1 (InputLayer)           [(None, 224, 224, 3  0           []                               \n",
            "                                )]                                                                \n",
            "                                                                                                  \n",
            " block1_conv1 (Conv2D)          (None, 224, 224, 64  1792        ['input_1[0][0]']                \n",
            "                                )                                                                 \n",
            "                                                                                                  \n",
            " block1_conv2 (Conv2D)          (None, 224, 224, 64  36928       ['block1_conv1[0][0]']           \n",
            "                                )                                                                 \n",
            "                                                                                                  \n",
            " block1_pool (MaxPooling2D)     (None, 112, 112, 64  0           ['block1_conv2[0][0]']           \n",
            "                                )                                                                 \n",
            "                                                                                                  \n",
            " block2_conv1 (Conv2D)          (None, 112, 112, 12  73856       ['block1_pool[0][0]']            \n",
            "                                8)                                                                \n",
            "                                                                                                  \n",
            " block2_conv2 (Conv2D)          (None, 112, 112, 12  147584      ['block2_conv1[0][0]']           \n",
            "                                8)                                                                \n",
            "                                                                                                  \n",
            " block2_pool (MaxPooling2D)     (None, 56, 56, 128)  0           ['block2_conv2[0][0]']           \n",
            "                                                                                                  \n",
            " block3_conv1 (Conv2D)          (None, 56, 56, 256)  295168      ['block2_pool[0][0]']            \n",
            "                                                                                                  \n",
            " block3_conv2 (Conv2D)          (None, 56, 56, 256)  590080      ['block3_conv1[0][0]']           \n",
            "                                                                                                  \n",
            " block3_conv3 (Conv2D)          (None, 56, 56, 256)  590080      ['block3_conv2[0][0]']           \n",
            "                                                                                                  \n",
            " block3_pool (MaxPooling2D)     (None, 28, 28, 256)  0           ['block3_conv3[0][0]']           \n",
            "                                                                                                  \n",
            " block4_conv1 (Conv2D)          (None, 28, 28, 512)  1180160     ['block3_pool[0][0]']            \n",
            "                                                                                                  \n",
            " block4_conv2 (Conv2D)          (None, 28, 28, 512)  2359808     ['block4_conv1[0][0]']           \n",
            "                                                                                                  \n",
            " block4_conv3 (Conv2D)          (None, 28, 28, 512)  2359808     ['block4_conv2[0][0]']           \n",
            "                                                                                                  \n",
            " block4_pool (MaxPooling2D)     (None, 14, 14, 512)  0           ['block4_conv3[0][0]']           \n",
            "                                                                                                  \n",
            " block5_conv1 (Conv2D)          (None, 14, 14, 512)  2359808     ['block4_pool[0][0]']            \n",
            "                                                                                                  \n",
            " block5_conv2 (Conv2D)          (None, 14, 14, 512)  2359808     ['block5_conv1[0][0]']           \n",
            "                                                                                                  \n",
            " block5_conv3 (Conv2D)          (None, 14, 14, 512)  2359808     ['block5_conv2[0][0]']           \n",
            "                                                                                                  \n",
            " block5_pool (MaxPooling2D)     (None, 7, 7, 512)    0           ['block5_conv3[0][0]']           \n",
            "                                                                                                  \n",
            " flatten (Flatten)              (None, 25088)        0           ['block5_pool[0][0]']            \n",
            "                                                                                                  \n",
            " fc1 (Dense)                    (None, 4096)         102764544   ['flatten[0][0]']                \n",
            "                                                                                                  \n",
            " fc2 (Dense)                    (None, 4096)         16781312    ['fc1[0][0]']                    \n",
            "                                                                                                  \n",
            " predictions (Dense)            (None, 1000)         4097000     ['fc2[0][0]']                    \n",
            "                                                                                                  \n",
            " predications_age (Dense)       (None, 116)          116116      ['predictions[0][0]']            \n",
            "                                                                                                  \n",
            " predications_gender (Dense)    (None, 2)            2002        ['predictions[0][0]']            \n",
            "                                                                                                  \n",
            " predications_race (Dense)      (None, 5)            5005        ['predictions[0][0]']            \n",
            "                                                                                                  \n",
            "==================================================================================================\n",
            "Total params: 138,480,667\n",
            "Trainable params: 138,480,667\n",
            "Non-trainable params: 0\n",
            "__________________________________________________________________________________________________\n"
          ]
        }
      ]
    },
    {
      "cell_type": "markdown",
      "source": [
        "# Train new transfer learning model set up for UTK dataset"
      ],
      "metadata": {
        "id": "SWDL2jVhxPOO"
      }
    },
    {
      "cell_type": "code",
      "source": [
        "batch_size=32\n",
        "valid_batch_size = 32\n",
        "epochs= 5\n",
        "initial_lr=0.01\n",
        "val_split=0.1\n",
        "test_split=0.1\n",
        "data_augmentation = True"
      ],
      "metadata": {
        "id": "iQNVG3FFRas8"
      },
      "execution_count": 14,
      "outputs": []
    },
    {
      "cell_type": "code",
      "source": [
        "callbacks = [ModelCheckpoint(\"./model_checkpoint\", monitor='val_loss')]"
      ],
      "metadata": {
        "id": "QyEGSfEjdRGt"
      },
      "execution_count": 15,
      "outputs": []
    },
    {
      "cell_type": "code",
      "source": [
        "new_model.compile(\n",
        "    optimizer='adam',\n",
        "    loss={\n",
        "          'predications_age': 'mse', \n",
        "          'predications_race': 'categorical_crossentropy', \n",
        "          'predications_gender': 'binary_crossentropy'},\n",
        "      loss_weights={\n",
        "          'predications_age': 4., \n",
        "          'predications_race': 1.5, \n",
        "          'predications_gender': 0.1},\n",
        "      metrics={\n",
        "          'predications_age': 'mae', \n",
        "          'predications_race': 'accuracy',\n",
        "          'predications_gender': 'accuracy'},\n",
        "    run_eagerly=True\n",
        ")\n",
        "\n",
        "train_gen = data_generator.generate_images(train, True, batch_size=batch_size)\n",
        "valid_gen = data_generator.generate_images(valid, True, batch_size=valid_batch_size)\n",
        "\n",
        "es = EarlyStopping(monitor='val_accuracy', mode='max', patience=5,  restore_best_weights=True)\n",
        "\n",
        "history = new_model.fit(x_train, [y_train_a, y_train_g, y_train_r],\n",
        "                            batch_size=batch_size, epochs= epochs, \n",
        "                            callbacks=callbacks, validation_data=(x_test, [y_test_a, y_test_g, y_test_r]))\n",
        "for layer in new_model.layers:\n",
        "    print('layer_name:{0}=====trainable:{1}'.format(layer.name, layer.trainable))\n",
        "new_model.summary()"
      ],
      "metadata": {
        "colab": {
          "base_uri": "https://localhost:8080/"
        },
        "id": "8UnUT9z_7XNt",
        "outputId": "eb6657f6-8b77-4630-ce32-0fd042402580"
      },
      "execution_count": null,
      "outputs": [
        {
          "output_type": "stream",
          "name": "stdout",
          "text": [
            "Epoch 1/5\n",
            "114/667 [====>.........................] - ETA: 8:53:51 - loss: 2.4246 - predications_age_loss: 0.0085 - predications_gender_loss: 0.6909 - predications_race_loss: 1.5475 - predications_age_mae: 0.0171 - predications_gender_accuracy: 0.5414 - predications_race_accuracy: 0.4370"
          ]
        }
      ]
    }
  ]
}