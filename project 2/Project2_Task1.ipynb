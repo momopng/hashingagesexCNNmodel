{
  "nbformat": 4,
  "nbformat_minor": 0,
  "metadata": {
    "colab": {
      "name": "Project2_Task1.ipynb",
      "provenance": [],
      "collapsed_sections": []
    },
    "kernelspec": {
      "name": "python3",
      "display_name": "Python 3"
    },
    "language_info": {
      "name": "python"
    }
  },
  "cells": [
    {
      "cell_type": "markdown",
      "source": [
        "# Student Names:\n",
        "Rebecca Moore\n",
        "\n",
        "\n",
        "1.   Task 1 - basic CNN\n",
        "2.   Task 3 - VGG16 transfer Learning\n",
        "\n",
        "Manish Reddy\n",
        "\n",
        "\n",
        "1.   Task 1 - basic CNN\n",
        "2.   Task 2 - Hash Filter and error function"
      ],
      "metadata": {
        "id": "KJ8a-HSBttGh"
      }
    },
    {
      "cell_type": "markdown",
      "source": [
        "# Setup"
      ],
      "metadata": {
        "id": "8ZCkcwaEhraX"
      }
    },
    {
      "cell_type": "markdown",
      "source": [
        "Imports"
      ],
      "metadata": {
        "id": "zXFEIaAStgS7"
      }
    },
    {
      "cell_type": "code",
      "source": [
        "import tensorflow as tf\n",
        "from tensorflow import keras\n",
        "from tensorflow.keras import layers\n",
        "import numpy as np \n",
        "import pandas as pd\n",
        "import os\n",
        "import glob\n",
        "import pandas as pd\n",
        "import matplotlib.pyplot as plt\n",
        "import seaborn as sns\n",
        "from google.colab import drive\n",
        "\n",
        "from tensorflow.keras.utils import to_categorical\n",
        "from PIL import Image\n",
        "from tensorflow.keras.optimizers import Adam\n",
        "\n",
        "from keras.models import Model\n",
        "from tensorflow.keras.layers import BatchNormalization\n",
        "from keras.layers.convolutional import Conv2D\n",
        "from keras.layers.convolutional import MaxPooling2D\n",
        "from keras.layers.core import Activation\n",
        "from keras.layers.core import Dropout\n",
        "from keras.layers.core import Lambda\n",
        "from keras.layers.core import Dense\n",
        "from keras.layers import Flatten\n",
        "from keras.layers import Input\n",
        "import tensorflow as tf\n",
        "import plotly.graph_objects as go\n",
        "from keras.callbacks import ModelCheckpoint"
      ],
      "metadata": {
        "id": "Di421HxmlOMw"
      },
      "execution_count": 52,
      "outputs": []
    },
    {
      "cell_type": "markdown",
      "source": [
        "Mounting google drive because that is where the directory with the images is stored, set up mapping for gender and races"
      ],
      "metadata": {
        "id": "nYsIeKm3tiYw"
      }
    },
    {
      "cell_type": "code",
      "execution_count": 46,
      "metadata": {
        "colab": {
          "base_uri": "https://localhost:8080/"
        },
        "id": "vCLhUQEpCjk2",
        "outputId": "a1b43322-6eac-45dc-c12f-9da91f80571c"
      },
      "outputs": [
        {
          "output_type": "stream",
          "name": "stdout",
          "text": [
            "Drive already mounted at /content/drive; to attempt to forcibly remount, call drive.mount(\"/content/drive\", force_remount=True).\n"
          ]
        }
      ],
      "source": [
        "drive.mount('/content/drive')\n",
        "\n",
        "data_name = '/content/drive/MyDrive/UTKFace'\n",
        "\n",
        "image_size = (224, 224)\n",
        "batch_size = 32\n",
        "\n",
        "TT_SPLIT = 0.7\n",
        "IM_WIDTH = 198\n",
        "IM_HEIGHT = 198\n",
        "\n",
        "dict_categories = {\n",
        "    'race_id': {0: 'white', 1: 'black', 2: 'asian', 3: 'indian', 4: 'others'},\n",
        "    'sex_id': {0: 'male',1: 'female'}}\n",
        "\n",
        "dict_categories['sex_tmp'] = dict((g, i) for i, g in dict_categories['sex_id'].items())\n",
        "dict_categories['race_tmp'] = dict((r, i) for i, r in dict_categories['race_id'].items())"
      ]
    },
    {
      "cell_type": "markdown",
      "source": [
        "Parse through the directory and image files to extract the labels and create a dataframe\n"
      ],
      "metadata": {
        "id": "cOktFm9zhzKb"
      }
    },
    {
      "cell_type": "code",
      "source": [
        "def parse(dataset_path, ext='jpg'):\n",
        "    def extract(path):\n",
        "        try:\n",
        "            filename = os.path.split(path)[1]\n",
        "            filename = os.path.splitext(filename)[0]\n",
        "            age, gender, race, _ = filename.split('_')\n",
        "\n",
        "            return int(age), dict_categories['sex_id'][int(gender)], dict_categories['race_id'][int(race)]\n",
        "        except Exception as ex:\n",
        "            return None, None, None\n",
        "        \n",
        "    files = glob.glob(os.path.join(dataset_path, \"*.%s\" % ext))\n",
        "    records = []\n",
        "    for file in files:\n",
        "        info = extract(file)\n",
        "        records.append(info)   \n",
        "    df = pd.DataFrame(records)\n",
        "    df['file'] = files\n",
        "    df.columns = ['age', 'gender', 'race', 'file']\n",
        "    df = df.dropna()\n",
        "    return df"
      ],
      "metadata": {
        "id": "JNfCKMdmCpWF"
      },
      "execution_count": 47,
      "outputs": []
    },
    {
      "cell_type": "code",
      "source": [
        "df = parse(data_name)\n",
        "df.head()"
      ],
      "metadata": {
        "colab": {
          "base_uri": "https://localhost:8080/",
          "height": 206
        },
        "id": "_fBwvsdKC_lh",
        "outputId": "b389de9c-c0a6-48a5-bfc3-5b0598e93757"
      },
      "execution_count": 36,
      "outputs": [
        {
          "output_type": "execute_result",
          "data": {
            "text/html": [
              "\n",
              "  <div id=\"df-c61c4dc1-9f49-4b16-9b06-8dd0a1749aec\">\n",
              "    <div class=\"colab-df-container\">\n",
              "      <div>\n",
              "<style scoped>\n",
              "    .dataframe tbody tr th:only-of-type {\n",
              "        vertical-align: middle;\n",
              "    }\n",
              "\n",
              "    .dataframe tbody tr th {\n",
              "        vertical-align: top;\n",
              "    }\n",
              "\n",
              "    .dataframe thead th {\n",
              "        text-align: right;\n",
              "    }\n",
              "</style>\n",
              "<table border=\"1\" class=\"dataframe\">\n",
              "  <thead>\n",
              "    <tr style=\"text-align: right;\">\n",
              "      <th></th>\n",
              "      <th>age</th>\n",
              "      <th>gender</th>\n",
              "      <th>race</th>\n",
              "      <th>file</th>\n",
              "    </tr>\n",
              "  </thead>\n",
              "  <tbody>\n",
              "    <tr>\n",
              "      <th>0</th>\n",
              "      <td>56.0</td>\n",
              "      <td>male</td>\n",
              "      <td>white</td>\n",
              "      <td>/content/drive/MyDrive/UTKFace/56_0_0_20170119...</td>\n",
              "    </tr>\n",
              "    <tr>\n",
              "      <th>1</th>\n",
              "      <td>56.0</td>\n",
              "      <td>male</td>\n",
              "      <td>indian</td>\n",
              "      <td>/content/drive/MyDrive/UTKFace/56_0_3_20170119...</td>\n",
              "    </tr>\n",
              "    <tr>\n",
              "      <th>2</th>\n",
              "      <td>56.0</td>\n",
              "      <td>male</td>\n",
              "      <td>indian</td>\n",
              "      <td>/content/drive/MyDrive/UTKFace/56_0_3_20170119...</td>\n",
              "    </tr>\n",
              "    <tr>\n",
              "      <th>3</th>\n",
              "      <td>56.0</td>\n",
              "      <td>male</td>\n",
              "      <td>asian</td>\n",
              "      <td>/content/drive/MyDrive/UTKFace/56_0_2_20170119...</td>\n",
              "    </tr>\n",
              "    <tr>\n",
              "      <th>4</th>\n",
              "      <td>56.0</td>\n",
              "      <td>male</td>\n",
              "      <td>indian</td>\n",
              "      <td>/content/drive/MyDrive/UTKFace/56_0_3_20170119...</td>\n",
              "    </tr>\n",
              "  </tbody>\n",
              "</table>\n",
              "</div>\n",
              "      <button class=\"colab-df-convert\" onclick=\"convertToInteractive('df-c61c4dc1-9f49-4b16-9b06-8dd0a1749aec')\"\n",
              "              title=\"Convert this dataframe to an interactive table.\"\n",
              "              style=\"display:none;\">\n",
              "        \n",
              "  <svg xmlns=\"http://www.w3.org/2000/svg\" height=\"24px\"viewBox=\"0 0 24 24\"\n",
              "       width=\"24px\">\n",
              "    <path d=\"M0 0h24v24H0V0z\" fill=\"none\"/>\n",
              "    <path d=\"M18.56 5.44l.94 2.06.94-2.06 2.06-.94-2.06-.94-.94-2.06-.94 2.06-2.06.94zm-11 1L8.5 8.5l.94-2.06 2.06-.94-2.06-.94L8.5 2.5l-.94 2.06-2.06.94zm10 10l.94 2.06.94-2.06 2.06-.94-2.06-.94-.94-2.06-.94 2.06-2.06.94z\"/><path d=\"M17.41 7.96l-1.37-1.37c-.4-.4-.92-.59-1.43-.59-.52 0-1.04.2-1.43.59L10.3 9.45l-7.72 7.72c-.78.78-.78 2.05 0 2.83L4 21.41c.39.39.9.59 1.41.59.51 0 1.02-.2 1.41-.59l7.78-7.78 2.81-2.81c.8-.78.8-2.07 0-2.86zM5.41 20L4 18.59l7.72-7.72 1.47 1.35L5.41 20z\"/>\n",
              "  </svg>\n",
              "      </button>\n",
              "      \n",
              "  <style>\n",
              "    .colab-df-container {\n",
              "      display:flex;\n",
              "      flex-wrap:wrap;\n",
              "      gap: 12px;\n",
              "    }\n",
              "\n",
              "    .colab-df-convert {\n",
              "      background-color: #E8F0FE;\n",
              "      border: none;\n",
              "      border-radius: 50%;\n",
              "      cursor: pointer;\n",
              "      display: none;\n",
              "      fill: #1967D2;\n",
              "      height: 32px;\n",
              "      padding: 0 0 0 0;\n",
              "      width: 32px;\n",
              "    }\n",
              "\n",
              "    .colab-df-convert:hover {\n",
              "      background-color: #E2EBFA;\n",
              "      box-shadow: 0px 1px 2px rgba(60, 64, 67, 0.3), 0px 1px 3px 1px rgba(60, 64, 67, 0.15);\n",
              "      fill: #174EA6;\n",
              "    }\n",
              "\n",
              "    [theme=dark] .colab-df-convert {\n",
              "      background-color: #3B4455;\n",
              "      fill: #D2E3FC;\n",
              "    }\n",
              "\n",
              "    [theme=dark] .colab-df-convert:hover {\n",
              "      background-color: #434B5C;\n",
              "      box-shadow: 0px 1px 3px 1px rgba(0, 0, 0, 0.15);\n",
              "      filter: drop-shadow(0px 1px 2px rgba(0, 0, 0, 0.3));\n",
              "      fill: #FFFFFF;\n",
              "    }\n",
              "  </style>\n",
              "\n",
              "      <script>\n",
              "        const buttonEl =\n",
              "          document.querySelector('#df-c61c4dc1-9f49-4b16-9b06-8dd0a1749aec button.colab-df-convert');\n",
              "        buttonEl.style.display =\n",
              "          google.colab.kernel.accessAllowed ? 'block' : 'none';\n",
              "\n",
              "        async function convertToInteractive(key) {\n",
              "          const element = document.querySelector('#df-c61c4dc1-9f49-4b16-9b06-8dd0a1749aec');\n",
              "          const dataTable =\n",
              "            await google.colab.kernel.invokeFunction('convertToInteractive',\n",
              "                                                     [key], {});\n",
              "          if (!dataTable) return;\n",
              "\n",
              "          const docLinkHtml = 'Like what you see? Visit the ' +\n",
              "            '<a target=\"_blank\" href=https://colab.research.google.com/notebooks/data_table.ipynb>data table notebook</a>'\n",
              "            + ' to learn more about interactive tables.';\n",
              "          element.innerHTML = '';\n",
              "          dataTable['output_type'] = 'display_data';\n",
              "          await google.colab.output.renderOutput(dataTable, element);\n",
              "          const docLink = document.createElement('div');\n",
              "          docLink.innerHTML = docLinkHtml;\n",
              "          element.appendChild(docLink);\n",
              "        }\n",
              "      </script>\n",
              "    </div>\n",
              "  </div>\n",
              "  "
            ],
            "text/plain": [
              "    age gender    race                                               file\n",
              "0  56.0   male   white  /content/drive/MyDrive/UTKFace/56_0_0_20170119...\n",
              "1  56.0   male  indian  /content/drive/MyDrive/UTKFace/56_0_3_20170119...\n",
              "2  56.0   male  indian  /content/drive/MyDrive/UTKFace/56_0_3_20170119...\n",
              "3  56.0   male   asian  /content/drive/MyDrive/UTKFace/56_0_2_20170119...\n",
              "4  56.0   male  indian  /content/drive/MyDrive/UTKFace/56_0_3_20170119..."
            ]
          },
          "metadata": {},
          "execution_count": 36
        }
      ]
    },
    {
      "cell_type": "markdown",
      "source": [
        "# Generator for CNN"
      ],
      "metadata": {
        "id": "6W5m0DQSnVkF"
      }
    },
    {
      "cell_type": "code",
      "source": [
        "class UtkGenerator():\n",
        "    def __init__(self, df):\n",
        "        self.df = df \n",
        "    def split(self):\n",
        "        p = np.random.permutation(len(self.df))\n",
        "        spliter = int(len(self.df) * TT_SPLIT)\n",
        "        train = p[:spliter]\n",
        "        test = p[spliter:]\n",
        "\n",
        "        spliter = int(spliter * TT_SPLIT)\n",
        "        train, valid = train[:spliter], train[spliter:]\n",
        "        \n",
        "        self.df['sex_id'] = self.df['gender'].map(lambda sex: dict_categories['sex_tmp'][sex])\n",
        "        self.df['race_id'] = self.df['race'].map(lambda race: dict_categories['race_tmp'][race])\n",
        "\n",
        "        self.max_age = self.df['age'].max()\n",
        "        \n",
        "        return train, valid, test\n",
        "    \n",
        "    def preprocess_image(self, img_path):\n",
        "        im = Image.open(img_path)\n",
        "        im = im.resize((IM_WIDTH, IM_HEIGHT))\n",
        "        im = np.array(im) / 255.0\n",
        "        \n",
        "        return im\n",
        "        \n",
        "    def generate_images(self, image_idx, is_training, batch_size=16):\n",
        "        images, ages, races, sexs = [], [], [], []\n",
        "        while True:\n",
        "            for idx in image_idx:\n",
        "                f = self.df.iloc[idx]\n",
        "                \n",
        "                age = f['age']\n",
        "                race = f['race_categorical']\n",
        "                sex = f['sex_categorical']\n",
        "                file = f['file']\n",
        "                \n",
        "                im = self.preprocess_image(file)\n",
        "                ages.append(age / self.max_age)\n",
        "                races.append(to_categorical(race, len(dict_categories['race_categorical'])))\n",
        "                sexs.append(to_categorical(sex, len(dict_categories['sex_id'])))\n",
        "                images.append(im)\n",
        "\n",
        "                if len(images) >= batch_size:\n",
        "                    yield np.array(images), [np.array(ages), np.array(races), np.array(sexs)]\n",
        "                    images, ages, races, sexs = [], [], [], []\n",
        "                    \n",
        "            if not is_training:\n",
        "                break\n",
        "                \n",
        "generator = UtkGenerator(df)\n",
        "train, valid, test = generator.split()"
      ],
      "metadata": {
        "id": "aLnJwNB8DBWR"
      },
      "execution_count": 53,
      "outputs": []
    },
    {
      "cell_type": "markdown",
      "source": [
        "# Set up the new model for the UTK dataframe off of the cats v dog CNN"
      ],
      "metadata": {
        "id": "nClRWuZEsKx-"
      }
    },
    {
      "cell_type": "code",
      "source": [
        "class utkmodel():\n",
        "    def hidden_layers(self, inputs):\n",
        "        x = Conv2D(16, (3, 3), padding=\"same\")(inputs)\n",
        "        x = Activation(\"relu\")(x)\n",
        "        x = BatchNormalization(axis=-1)(x)\n",
        "        x = MaxPooling2D(pool_size=(3, 3))(x)\n",
        "        x = Dropout(0.25)(x)\n",
        "\n",
        "        x = Conv2D(32, (3, 3), padding=\"same\")(x)\n",
        "        x = Activation(\"relu\")(x)\n",
        "        x = BatchNormalization(axis=-1)(x)\n",
        "        x = MaxPooling2D(pool_size=(2, 2))(x)\n",
        "        x = Dropout(0.25)(x)\n",
        "\n",
        "        x = Conv2D(32, (3, 3), padding=\"same\")(x)\n",
        "        x = Activation(\"relu\")(x)\n",
        "        x = BatchNormalization(axis=-1)(x)\n",
        "        x = MaxPooling2D(pool_size=(2, 2))(x)\n",
        "        x = Dropout(0.25)(x)\n",
        "        return x\n",
        "\n",
        "    def race(self, inputs, num_races):\n",
        "        x = self.hidden_layers(inputs)\n",
        "        x = Flatten()(x)\n",
        "        x = Dense(128)(x)\n",
        "        x = Activation(\"relu\")(x)\n",
        "        x = BatchNormalization()(x)\n",
        "        x = Dropout(0.5)(x)\n",
        "        x = Dense(num_races)(x)\n",
        "        x = Activation(\"softmax\", name=\"race_output\")(x)\n",
        "        return x\n",
        "\n",
        "    def sex(self, inputs, num_sexs=2):\n",
        "        x = Lambda(lambda c: tf.image.rgb_to_grayscale(c))(inputs)\n",
        "        x = self.hidden_layers(inputs)\n",
        "        x = Flatten()(x)\n",
        "        x = Dense(128)(x)\n",
        "        x = Activation(\"relu\")(x)\n",
        "        x = BatchNormalization()(x)\n",
        "        x = Dropout(0.5)(x)\n",
        "        x = Dense(num_sexs)(x)\n",
        "        x = Activation(\"sigmoid\", name=\"sex_output\")(x)\n",
        "        return x\n",
        "\n",
        "    def age(self, inputs):   \n",
        "        x = self.hidden_layers(inputs)\n",
        "        x = Flatten()(x)\n",
        "        x = Dense(128)(x)\n",
        "        x = Activation(\"relu\")(x)\n",
        "        x = BatchNormalization()(x)\n",
        "        x = Dropout(0.5)(x)\n",
        "        x = Dense(1)(x)\n",
        "        x = Activation(\"linear\", name=\"age_output\")(x)\n",
        "        return x\n",
        "\n",
        "    def compile_model(self, width, height, num_races):\n",
        "        input_shape = (height, width, 3)\n",
        "        x = Input(shape=input_shape)\n",
        "        a_branch = self.age(x)\n",
        "        r_branch = self.race(x, num_races)\n",
        "        s_branch = self.sex(x)\n",
        "\n",
        "        model = Model(inputs=x,\n",
        "                     outputs = [a_branch, r_branch, s_branch],\n",
        "                     name=\"utk_cnn_p2\")\n",
        "\n",
        "        return model\n",
        "    \n",
        "model = utkmodel().compile_model(IM_WIDTH, IM_HEIGHT, num_races= 5)"
      ],
      "metadata": {
        "id": "9JPFGnFPDMvw"
      },
      "execution_count": 50,
      "outputs": []
    },
    {
      "cell_type": "markdown",
      "source": [
        "# Configure and Compile the model"
      ],
      "metadata": {
        "id": "VYL8foMfs3cC"
      }
    },
    {
      "cell_type": "code",
      "source": [
        "learning_rate = 1e-4\n",
        "epochs = 5\n",
        "opt = Adam(learning_rate=learning_rate, decay=learning_rate / epochs)\n",
        "model.compile(optimizer=opt, \n",
        "              loss={\n",
        "                  'age': 'mse', \n",
        "                  'race': 'categorical_crossentropy', \n",
        "                  'sex': 'binary_crossentropy'},\n",
        "              loss_weights={\n",
        "                  'age': 4., \n",
        "                  'race': 1.5, \n",
        "                  'sex': 0.1},\n",
        "              metrics={\n",
        "                  'age': 'mae', \n",
        "                  'race': 'accuracy',\n",
        "                  'sex': 'accuracy'})"
      ],
      "metadata": {
        "id": "nYJSlcpjDe2R"
      },
      "execution_count": 51,
      "outputs": []
    },
    {
      "cell_type": "markdown",
      "source": [
        "# Training"
      ],
      "metadata": {
        "id": "9Yhhw59rs7G7"
      }
    },
    {
      "cell_type": "code",
      "source": [
        "batch_size = 32\n",
        "valid_batch_size = 32\n",
        "train_gen = data_generator.generate_images(train, True, batch_size=batch_size)\n",
        "valid_gen = data_generator.generate_images(valid, True, batch_size=valid_batch_size)\n",
        "\n",
        "callbacks = [\n",
        "    ModelCheckpoint(\"./model_checkpoint\", monitor='val_loss')\n",
        "]\n",
        "\n",
        "history = model.fit(train_gen,\n",
        "                    steps_per_epoch=len(train)//batch_size,\n",
        "                    epochs=epochs,\n",
        "                    callbacks=callbacks,\n",
        "                    validation_data=valid_gen,\n",
        "                    validation_steps=len(valid)//valid_batch_size)"
      ],
      "metadata": {
        "colab": {
          "base_uri": "https://localhost:8080/"
        },
        "id": "OTO-6cLtDrT2",
        "outputId": "ad52edb1-e4a9-448f-d80b-383adcc6a343"
      },
      "execution_count": 7,
      "outputs": [
        {
          "output_type": "stream",
          "name": "stdout",
          "text": [
            "Epoch 1/5\n",
            "362/362 [==============================] - ETA: 0s - loss: 14.4755 - age_output_loss: 2.9205 - race_output_loss: 1.8191 - gender_output_loss: 0.6484 - age_output_mae: 1.3266 - race_output_accuracy: 0.4191 - gender_output_accuracy: 0.7273INFO:tensorflow:Assets written to: ./model_checkpoint/assets\n",
            "362/362 [==============================] - 1649s 5s/step - loss: 14.4755 - age_output_loss: 2.9205 - race_output_loss: 1.8191 - gender_output_loss: 0.6484 - age_output_mae: 1.3266 - race_output_accuracy: 0.4191 - gender_output_accuracy: 0.7273 - val_loss: 16.0287 - val_age_output_loss: 2.6864 - val_race_output_loss: 3.4773 - val_gender_output_loss: 0.6731 - val_age_output_mae: 1.3314 - val_race_output_accuracy: 0.4335 - val_gender_output_accuracy: 0.6821\n",
            "Epoch 2/5\n",
            "362/362 [==============================] - ETA: 0s - loss: 9.1518 - age_output_loss: 1.7633 - race_output_loss: 1.3660 - gender_output_loss: 0.4956 - age_output_mae: 1.0205 - race_output_accuracy: 0.5485 - gender_output_accuracy: 0.8014INFO:tensorflow:Assets written to: ./model_checkpoint/assets\n",
            "362/362 [==============================] - 1182s 3s/step - loss: 9.1518 - age_output_loss: 1.7633 - race_output_loss: 1.3660 - gender_output_loss: 0.4956 - age_output_mae: 1.0205 - race_output_accuracy: 0.5485 - gender_output_accuracy: 0.8014 - val_loss: 66.5709 - val_age_output_loss: 15.9477 - val_race_output_loss: 1.8225 - val_gender_output_loss: 0.4645 - val_age_output_mae: 2.9774 - val_race_output_accuracy: 0.5409 - val_gender_output_accuracy: 0.8151\n",
            "Epoch 3/5\n",
            "362/362 [==============================] - ETA: 0s - loss: 7.2207 - age_output_loss: 1.3527 - race_output_loss: 1.1775 - gender_output_loss: 0.4386 - age_output_mae: 0.8823 - race_output_accuracy: 0.6051 - gender_output_accuracy: 0.8202INFO:tensorflow:Assets written to: ./model_checkpoint/assets\n",
            "362/362 [==============================] - 1174s 3s/step - loss: 7.2207 - age_output_loss: 1.3527 - race_output_loss: 1.1775 - gender_output_loss: 0.4386 - age_output_mae: 0.8823 - race_output_accuracy: 0.6051 - gender_output_accuracy: 0.8202 - val_loss: 38.3731 - val_age_output_loss: 8.9625 - val_race_output_loss: 1.6532 - val_gender_output_loss: 0.4307 - val_age_output_mae: 1.9414 - val_race_output_accuracy: 0.6250 - val_gender_output_accuracy: 0.8417\n",
            "Epoch 4/5\n",
            "362/362 [==============================] - ETA: 0s - loss: 5.8888 - age_output_loss: 1.0611 - race_output_loss: 1.0695 - gender_output_loss: 0.4018 - age_output_mae: 0.7746 - race_output_accuracy: 0.6401 - gender_output_accuracy: 0.8382INFO:tensorflow:Assets written to: ./model_checkpoint/assets\n",
            "362/362 [==============================] - 1184s 3s/step - loss: 5.8888 - age_output_loss: 1.0611 - race_output_loss: 1.0695 - gender_output_loss: 0.4018 - age_output_mae: 0.7746 - race_output_accuracy: 0.6401 - gender_output_accuracy: 0.8382 - val_loss: 50.3925 - val_age_output_loss: 11.9715 - val_race_output_loss: 1.6415 - val_gender_output_loss: 0.4429 - val_age_output_mae: 2.2947 - val_race_output_accuracy: 0.6308 - val_gender_output_accuracy: 0.8431\n",
            "Epoch 5/5\n",
            "362/362 [==============================] - ETA: 0s - loss: 5.0254 - age_output_loss: 0.8814 - race_output_loss: 0.9749 - gender_output_loss: 0.3756 - age_output_mae: 0.7047 - race_output_accuracy: 0.6703 - gender_output_accuracy: 0.8500INFO:tensorflow:Assets written to: ./model_checkpoint/assets\n",
            "362/362 [==============================] - 1200s 3s/step - loss: 5.0254 - age_output_loss: 0.8814 - race_output_loss: 0.9749 - gender_output_loss: 0.3756 - age_output_mae: 0.7047 - race_output_accuracy: 0.6703 - gender_output_accuracy: 0.8500 - val_loss: 47.4384 - val_age_output_loss: 11.3022 - val_race_output_loss: 1.4585 - val_gender_output_loss: 0.4180 - val_age_output_mae: 1.9616 - val_race_output_accuracy: 0.6319 - val_gender_output_accuracy: 0.8464\n"
          ]
        }
      ]
    },
    {
      "cell_type": "markdown",
      "source": [
        "# Plot for overall Loss"
      ],
      "metadata": {
        "id": "GnrEoEPns90V"
      }
    },
    {
      "cell_type": "code",
      "source": [
        "fig = go.Figure()\n",
        "fig.add_trace(go.Scattergl(\n",
        "                    y=history.history['loss'],\n",
        "                    name='Train'))\n",
        "\n",
        "fig.add_trace(go.Scattergl(\n",
        "                    y=history.history['val_loss'],\n",
        "                    name='Valid'))\n",
        "\n",
        "\n",
        "fig.update_layout(height=500, \n",
        "                  width=700,\n",
        "                  title='Overall loss',\n",
        "                  xaxis_title='Epoch',\n",
        "                  yaxis_title='Loss')\n",
        "\n",
        "fig.show()"
      ],
      "metadata": {
        "colab": {
          "base_uri": "https://localhost:8080/",
          "height": 517
        },
        "id": "zzmIm--tg8M2",
        "outputId": "93258aef-8571-4259-85b4-97a74e38b05e"
      },
      "execution_count": 13,
      "outputs": [
        {
          "output_type": "display_data",
          "data": {
            "text/html": [
              "<html>\n",
              "<head><meta charset=\"utf-8\" /></head>\n",
              "<body>\n",
              "    <div>            <script src=\"https://cdnjs.cloudflare.com/ajax/libs/mathjax/2.7.5/MathJax.js?config=TeX-AMS-MML_SVG\"></script><script type=\"text/javascript\">if (window.MathJax) {MathJax.Hub.Config({SVG: {font: \"STIX-Web\"}});}</script>                <script type=\"text/javascript\">window.PlotlyConfig = {MathJaxConfig: 'local'};</script>\n",
              "        <script src=\"https://cdn.plot.ly/plotly-2.8.3.min.js\"></script>                <div id=\"88f322a5-35e6-40d3-84e9-da4b24093c19\" class=\"plotly-graph-div\" style=\"height:500px; width:700px;\"></div>            <script type=\"text/javascript\">                                    window.PLOTLYENV=window.PLOTLYENV || {};                                    if (document.getElementById(\"88f322a5-35e6-40d3-84e9-da4b24093c19\")) {                    Plotly.newPlot(                        \"88f322a5-35e6-40d3-84e9-da4b24093c19\",                        [{\"name\":\"Train\",\"y\":[14.475513458251953,9.15179443359375,7.220736026763916,5.8888349533081055,5.02536678314209],\"type\":\"scattergl\"},{\"name\":\"Valid\",\"y\":[16.02874183654785,66.57093811035156,38.3730583190918,50.392478942871094,47.43839645385742],\"type\":\"scattergl\"}],                        {\"template\":{\"data\":{\"bar\":[{\"error_x\":{\"color\":\"#2a3f5f\"},\"error_y\":{\"color\":\"#2a3f5f\"},\"marker\":{\"line\":{\"color\":\"#E5ECF6\",\"width\":0.5},\"pattern\":{\"fillmode\":\"overlay\",\"size\":10,\"solidity\":0.2}},\"type\":\"bar\"}],\"barpolar\":[{\"marker\":{\"line\":{\"color\":\"#E5ECF6\",\"width\":0.5},\"pattern\":{\"fillmode\":\"overlay\",\"size\":10,\"solidity\":0.2}},\"type\":\"barpolar\"}],\"carpet\":[{\"aaxis\":{\"endlinecolor\":\"#2a3f5f\",\"gridcolor\":\"white\",\"linecolor\":\"white\",\"minorgridcolor\":\"white\",\"startlinecolor\":\"#2a3f5f\"},\"baxis\":{\"endlinecolor\":\"#2a3f5f\",\"gridcolor\":\"white\",\"linecolor\":\"white\",\"minorgridcolor\":\"white\",\"startlinecolor\":\"#2a3f5f\"},\"type\":\"carpet\"}],\"choropleth\":[{\"colorbar\":{\"outlinewidth\":0,\"ticks\":\"\"},\"type\":\"choropleth\"}],\"contour\":[{\"colorbar\":{\"outlinewidth\":0,\"ticks\":\"\"},\"colorscale\":[[0.0,\"#0d0887\"],[0.1111111111111111,\"#46039f\"],[0.2222222222222222,\"#7201a8\"],[0.3333333333333333,\"#9c179e\"],[0.4444444444444444,\"#bd3786\"],[0.5555555555555556,\"#d8576b\"],[0.6666666666666666,\"#ed7953\"],[0.7777777777777778,\"#fb9f3a\"],[0.8888888888888888,\"#fdca26\"],[1.0,\"#f0f921\"]],\"type\":\"contour\"}],\"contourcarpet\":[{\"colorbar\":{\"outlinewidth\":0,\"ticks\":\"\"},\"type\":\"contourcarpet\"}],\"heatmap\":[{\"colorbar\":{\"outlinewidth\":0,\"ticks\":\"\"},\"colorscale\":[[0.0,\"#0d0887\"],[0.1111111111111111,\"#46039f\"],[0.2222222222222222,\"#7201a8\"],[0.3333333333333333,\"#9c179e\"],[0.4444444444444444,\"#bd3786\"],[0.5555555555555556,\"#d8576b\"],[0.6666666666666666,\"#ed7953\"],[0.7777777777777778,\"#fb9f3a\"],[0.8888888888888888,\"#fdca26\"],[1.0,\"#f0f921\"]],\"type\":\"heatmap\"}],\"heatmapgl\":[{\"colorbar\":{\"outlinewidth\":0,\"ticks\":\"\"},\"colorscale\":[[0.0,\"#0d0887\"],[0.1111111111111111,\"#46039f\"],[0.2222222222222222,\"#7201a8\"],[0.3333333333333333,\"#9c179e\"],[0.4444444444444444,\"#bd3786\"],[0.5555555555555556,\"#d8576b\"],[0.6666666666666666,\"#ed7953\"],[0.7777777777777778,\"#fb9f3a\"],[0.8888888888888888,\"#fdca26\"],[1.0,\"#f0f921\"]],\"type\":\"heatmapgl\"}],\"histogram\":[{\"marker\":{\"pattern\":{\"fillmode\":\"overlay\",\"size\":10,\"solidity\":0.2}},\"type\":\"histogram\"}],\"histogram2d\":[{\"colorbar\":{\"outlinewidth\":0,\"ticks\":\"\"},\"colorscale\":[[0.0,\"#0d0887\"],[0.1111111111111111,\"#46039f\"],[0.2222222222222222,\"#7201a8\"],[0.3333333333333333,\"#9c179e\"],[0.4444444444444444,\"#bd3786\"],[0.5555555555555556,\"#d8576b\"],[0.6666666666666666,\"#ed7953\"],[0.7777777777777778,\"#fb9f3a\"],[0.8888888888888888,\"#fdca26\"],[1.0,\"#f0f921\"]],\"type\":\"histogram2d\"}],\"histogram2dcontour\":[{\"colorbar\":{\"outlinewidth\":0,\"ticks\":\"\"},\"colorscale\":[[0.0,\"#0d0887\"],[0.1111111111111111,\"#46039f\"],[0.2222222222222222,\"#7201a8\"],[0.3333333333333333,\"#9c179e\"],[0.4444444444444444,\"#bd3786\"],[0.5555555555555556,\"#d8576b\"],[0.6666666666666666,\"#ed7953\"],[0.7777777777777778,\"#fb9f3a\"],[0.8888888888888888,\"#fdca26\"],[1.0,\"#f0f921\"]],\"type\":\"histogram2dcontour\"}],\"mesh3d\":[{\"colorbar\":{\"outlinewidth\":0,\"ticks\":\"\"},\"type\":\"mesh3d\"}],\"parcoords\":[{\"line\":{\"colorbar\":{\"outlinewidth\":0,\"ticks\":\"\"}},\"type\":\"parcoords\"}],\"pie\":[{\"automargin\":true,\"type\":\"pie\"}],\"scatter\":[{\"marker\":{\"colorbar\":{\"outlinewidth\":0,\"ticks\":\"\"}},\"type\":\"scatter\"}],\"scatter3d\":[{\"line\":{\"colorbar\":{\"outlinewidth\":0,\"ticks\":\"\"}},\"marker\":{\"colorbar\":{\"outlinewidth\":0,\"ticks\":\"\"}},\"type\":\"scatter3d\"}],\"scattercarpet\":[{\"marker\":{\"colorbar\":{\"outlinewidth\":0,\"ticks\":\"\"}},\"type\":\"scattercarpet\"}],\"scattergeo\":[{\"marker\":{\"colorbar\":{\"outlinewidth\":0,\"ticks\":\"\"}},\"type\":\"scattergeo\"}],\"scattergl\":[{\"marker\":{\"colorbar\":{\"outlinewidth\":0,\"ticks\":\"\"}},\"type\":\"scattergl\"}],\"scattermapbox\":[{\"marker\":{\"colorbar\":{\"outlinewidth\":0,\"ticks\":\"\"}},\"type\":\"scattermapbox\"}],\"scatterpolar\":[{\"marker\":{\"colorbar\":{\"outlinewidth\":0,\"ticks\":\"\"}},\"type\":\"scatterpolar\"}],\"scatterpolargl\":[{\"marker\":{\"colorbar\":{\"outlinewidth\":0,\"ticks\":\"\"}},\"type\":\"scatterpolargl\"}],\"scatterternary\":[{\"marker\":{\"colorbar\":{\"outlinewidth\":0,\"ticks\":\"\"}},\"type\":\"scatterternary\"}],\"surface\":[{\"colorbar\":{\"outlinewidth\":0,\"ticks\":\"\"},\"colorscale\":[[0.0,\"#0d0887\"],[0.1111111111111111,\"#46039f\"],[0.2222222222222222,\"#7201a8\"],[0.3333333333333333,\"#9c179e\"],[0.4444444444444444,\"#bd3786\"],[0.5555555555555556,\"#d8576b\"],[0.6666666666666666,\"#ed7953\"],[0.7777777777777778,\"#fb9f3a\"],[0.8888888888888888,\"#fdca26\"],[1.0,\"#f0f921\"]],\"type\":\"surface\"}],\"table\":[{\"cells\":{\"fill\":{\"color\":\"#EBF0F8\"},\"line\":{\"color\":\"white\"}},\"header\":{\"fill\":{\"color\":\"#C8D4E3\"},\"line\":{\"color\":\"white\"}},\"type\":\"table\"}]},\"layout\":{\"annotationdefaults\":{\"arrowcolor\":\"#2a3f5f\",\"arrowhead\":0,\"arrowwidth\":1},\"autotypenumbers\":\"strict\",\"coloraxis\":{\"colorbar\":{\"outlinewidth\":0,\"ticks\":\"\"}},\"colorscale\":{\"diverging\":[[0,\"#8e0152\"],[0.1,\"#c51b7d\"],[0.2,\"#de77ae\"],[0.3,\"#f1b6da\"],[0.4,\"#fde0ef\"],[0.5,\"#f7f7f7\"],[0.6,\"#e6f5d0\"],[0.7,\"#b8e186\"],[0.8,\"#7fbc41\"],[0.9,\"#4d9221\"],[1,\"#276419\"]],\"sequential\":[[0.0,\"#0d0887\"],[0.1111111111111111,\"#46039f\"],[0.2222222222222222,\"#7201a8\"],[0.3333333333333333,\"#9c179e\"],[0.4444444444444444,\"#bd3786\"],[0.5555555555555556,\"#d8576b\"],[0.6666666666666666,\"#ed7953\"],[0.7777777777777778,\"#fb9f3a\"],[0.8888888888888888,\"#fdca26\"],[1.0,\"#f0f921\"]],\"sequentialminus\":[[0.0,\"#0d0887\"],[0.1111111111111111,\"#46039f\"],[0.2222222222222222,\"#7201a8\"],[0.3333333333333333,\"#9c179e\"],[0.4444444444444444,\"#bd3786\"],[0.5555555555555556,\"#d8576b\"],[0.6666666666666666,\"#ed7953\"],[0.7777777777777778,\"#fb9f3a\"],[0.8888888888888888,\"#fdca26\"],[1.0,\"#f0f921\"]]},\"colorway\":[\"#636efa\",\"#EF553B\",\"#00cc96\",\"#ab63fa\",\"#FFA15A\",\"#19d3f3\",\"#FF6692\",\"#B6E880\",\"#FF97FF\",\"#FECB52\"],\"font\":{\"color\":\"#2a3f5f\"},\"geo\":{\"bgcolor\":\"white\",\"lakecolor\":\"white\",\"landcolor\":\"#E5ECF6\",\"showlakes\":true,\"showland\":true,\"subunitcolor\":\"white\"},\"hoverlabel\":{\"align\":\"left\"},\"hovermode\":\"closest\",\"mapbox\":{\"style\":\"light\"},\"paper_bgcolor\":\"white\",\"plot_bgcolor\":\"#E5ECF6\",\"polar\":{\"angularaxis\":{\"gridcolor\":\"white\",\"linecolor\":\"white\",\"ticks\":\"\"},\"bgcolor\":\"#E5ECF6\",\"radialaxis\":{\"gridcolor\":\"white\",\"linecolor\":\"white\",\"ticks\":\"\"}},\"scene\":{\"xaxis\":{\"backgroundcolor\":\"#E5ECF6\",\"gridcolor\":\"white\",\"gridwidth\":2,\"linecolor\":\"white\",\"showbackground\":true,\"ticks\":\"\",\"zerolinecolor\":\"white\"},\"yaxis\":{\"backgroundcolor\":\"#E5ECF6\",\"gridcolor\":\"white\",\"gridwidth\":2,\"linecolor\":\"white\",\"showbackground\":true,\"ticks\":\"\",\"zerolinecolor\":\"white\"},\"zaxis\":{\"backgroundcolor\":\"#E5ECF6\",\"gridcolor\":\"white\",\"gridwidth\":2,\"linecolor\":\"white\",\"showbackground\":true,\"ticks\":\"\",\"zerolinecolor\":\"white\"}},\"shapedefaults\":{\"line\":{\"color\":\"#2a3f5f\"}},\"ternary\":{\"aaxis\":{\"gridcolor\":\"white\",\"linecolor\":\"white\",\"ticks\":\"\"},\"baxis\":{\"gridcolor\":\"white\",\"linecolor\":\"white\",\"ticks\":\"\"},\"bgcolor\":\"#E5ECF6\",\"caxis\":{\"gridcolor\":\"white\",\"linecolor\":\"white\",\"ticks\":\"\"}},\"title\":{\"x\":0.05},\"xaxis\":{\"automargin\":true,\"gridcolor\":\"white\",\"linecolor\":\"white\",\"ticks\":\"\",\"title\":{\"standoff\":15},\"zerolinecolor\":\"white\",\"zerolinewidth\":2},\"yaxis\":{\"automargin\":true,\"gridcolor\":\"white\",\"linecolor\":\"white\",\"ticks\":\"\",\"title\":{\"standoff\":15},\"zerolinecolor\":\"white\",\"zerolinewidth\":2}}},\"height\":500,\"width\":700,\"title\":{\"text\":\"Overall loss\"},\"xaxis\":{\"title\":{\"text\":\"Epoch\"}},\"yaxis\":{\"title\":{\"text\":\"Loss\"}}},                        {\"responsive\": true}                    ).then(function(){\n",
              "                            \n",
              "var gd = document.getElementById('88f322a5-35e6-40d3-84e9-da4b24093c19');\n",
              "var x = new MutationObserver(function (mutations, observer) {{\n",
              "        var display = window.getComputedStyle(gd).display;\n",
              "        if (!display || display === 'none') {{\n",
              "            console.log([gd, 'removed!']);\n",
              "            Plotly.purge(gd);\n",
              "            observer.disconnect();\n",
              "        }}\n",
              "}});\n",
              "\n",
              "// Listen for the removal of the full notebook cells\n",
              "var notebookContainer = gd.closest('#notebook-container');\n",
              "if (notebookContainer) {{\n",
              "    x.observe(notebookContainer, {childList: true});\n",
              "}}\n",
              "\n",
              "// Listen for the clearing of the current output cell\n",
              "var outputEl = gd.closest('.output');\n",
              "if (outputEl) {{\n",
              "    x.observe(outputEl, {childList: true});\n",
              "}}\n",
              "\n",
              "                        })                };                            </script>        </div>\n",
              "</body>\n",
              "</html>"
            ]
          },
          "metadata": {}
        }
      ]
    }
  ]
}